{
 "cells": [
  {
   "cell_type": "markdown",
   "metadata": {},
   "source": [
    "# Improving GAN Outputs with Class Conditioning\n",
    "Submitted by: Rishabh Kaushick\n",
    "<br>\n",
    "Date: March 2, 2025"
   ]
  },
  {
   "cell_type": "markdown",
   "metadata": {},
   "source": [
    "# 1. Environment Setup (5%)\n",
    "- Install the necessary libraries (e.g., TensorFlow or PyTorch, NumPy, Matplotlib).\n",
    "- Verify that the Fashion MNIST dataset can be successfully loaded using your chosen framework.\n",
    "- Document your environment setup (e.g., software versions, hardware used)."
   ]
  },
  {
   "cell_type": "code",
   "execution_count": 7,
   "metadata": {},
   "outputs": [],
   "source": [
    "#%matplotlib inline\n",
    "import argparse\n",
    "import os\n",
    "import random\n",
    "import torch\n",
    "import torch.nn as nn\n",
    "import torch.nn.parallel\n",
    "import torch.backends.cudnn as cudnn\n",
    "import torch.optim as optim\n",
    "import torch.utils.data\n",
    "import torchvision.datasets\n",
    "import torchvision.transforms as transforms\n",
    "import torchvision.utils as vutils\n",
    "import torch.nn.functional as F\n",
    "from PIL import Image\n",
    "from torch.utils.data import Dataset, DataLoader\n",
    "\n",
    "import torchvision.models as models\n",
    "import numpy as np\n",
    "from scipy import linalg\n",
    "from torch.nn.functional import adaptive_avg_pool2d\n",
    "import matplotlib.pyplot as plt\n",
    "import matplotlib.animation as animation\n",
    "from IPython.display import HTML\n",
    "\n",
    "import pandas as pd\n",
    "import seaborn as sns"
   ]
  },
  {
   "cell_type": "markdown",
   "metadata": {},
   "source": [
    "## Harware Requirements\n",
    "### CUDA: GPU Availability"
   ]
  },
  {
   "cell_type": "code",
   "execution_count": 4,
   "metadata": {},
   "outputs": [
    {
     "name": "stdout",
     "output_type": "stream",
     "text": [
      "PyTorch version: 2.2.1+cu121\n",
      "Is CUDA available: False\n",
      "CUDA is not available. Running on CPU.\n"
     ]
    }
   ],
   "source": [
    " \n",
    "print(f\"PyTorch version: {torch.__version__}\")\n",
    "print(f\"Is CUDA available: {torch.cuda.is_available()}\")\n",
    " \n",
    "if torch.cuda.is_available():\n",
    "    print(f\"CUDA version: {torch.version.cuda}\")\n",
    "    print(f\"cuDNN version: {torch.backends.cudnn.version()}\")\n",
    "    print(f\"cuDNN enabled: {torch.backends.cudnn.enabled}\")\n",
    "    print(f\"GPU Count: {torch.cuda.device_count()}\")\n",
    "    \n",
    "    for i in range(torch.cuda.device_count()):\n",
    "        print(f\"GPU {i}: {torch.cuda.get_device_name(i)}\")\n",
    "        print(f\"Memory Allocated: {torch.cuda.memory_allocated(i) / 1024**2:.2f} MB\")\n",
    "        print(f\"Memory Reserved: {torch.cuda.memory_reserved(i) / 1024**2:.2f} MB\")\n",
    " \n",
    "else:\n",
    "    print(\"CUDA is not available. Running on CPU.\")"
   ]
  },
  {
   "cell_type": "markdown",
   "metadata": {},
   "source": [
    "## Software Requirements"
   ]
  },
  {
   "cell_type": "code",
   "execution_count": 2,
   "metadata": {},
   "outputs": [
    {
     "name": "stdout",
     "output_type": "stream",
     "text": [
      "absl-py==2.1.0\n",
      "accelerate==1.4.0\n",
      "aiohappyeyeballs==2.4.4\n",
      "aiohttp==3.11.11\n",
      "aiosignal==1.3.2\n",
      "annotated-types==0.7.0\n",
      "anyio==4.8.0\n",
      "argon2-cffi==23.1.0\n",
      "argon2-cffi-bindings==21.2.0\n",
      "arrow==1.3.0\n",
      "asttokens==3.0.0\n",
      "astunparse==1.6.3\n",
      "async-lru==2.0.4\n",
      "async-timeout==5.0.1\n",
      "attrs==24.3.0\n",
      "babel==2.16.0\n",
      "backoff==2.2.1\n",
      "beautifulsoup4==4.12.3\n",
      "bioc==2.1\n",
      "bleach==6.2.0\n",
      "blis==1.2.0\n",
      "boto3==1.35.96\n",
      "botocore==1.35.96\n",
      "cachetools==5.5.0\n",
      "catalogue==2.0.10\n",
      "certifi==2024.12.14\n",
      "cffi==1.17.1\n",
      "charset-normalizer==3.4.1\n",
      "click==8.1.8\n",
      "cloudpathlib==0.20.0\n",
      "comm==0.2.2\n",
      "confection==0.1.5\n",
      "conllu==4.5.3\n",
      "contourpy==1.3.1\n",
      "cycler==0.12.1\n",
      "cymem==2.0.11\n",
      "debugpy==1.8.11\n",
      "decorator==5.1.1\n",
      "defusedxml==0.7.1\n",
      "Deprecated==1.2.18\n",
      "docopt==0.6.2\n",
      "exceptiongroup==1.2.2\n",
      "executing==2.1.0\n",
      "fastapi==0.115.6\n",
      "fastjsonschema==2.21.1\n",
      "filelock==3.16.1\n",
      "fire==0.7.0\n",
      "flair==0.15.1\n",
      "flatbuffers==25.1.24\n",
      "fonttools==4.55.3\n",
      "fqdn==1.5.1\n",
      "frozenlist==1.5.0\n",
      "fsspec==2024.12.0\n",
      "ftfy==6.3.1\n",
      "gast==0.6.0\n",
      "gdown==5.2.0\n",
      "google-auth==2.37.0\n",
      "google-auth-oauthlib==1.2.1\n",
      "google-pasta==0.2.0\n",
      "graphviz==0.20.3\n",
      "grpcio==1.69.0\n",
      "h11==0.14.0\n",
      "h5py==3.12.1\n",
      "httpcore==1.0.7\n",
      "httptools==0.6.4\n",
      "httpx==0.28.1\n",
      "huggingface-hub==0.29.1\n",
      "idna==3.10\n",
      "intervaltree==3.1.0\n",
      "ipykernel==6.26.0\n",
      "ipython==8.17.2\n",
      "ipywidgets==8.1.1\n",
      "isoduration==20.11.0\n",
      "jedi==0.19.2\n",
      "Jinja2==3.1.5\n",
      "jmespath==1.0.1\n",
      "joblib==1.4.2\n",
      "json5==0.10.0\n",
      "jsonlines==4.0.0\n",
      "jsonpointer==3.0.0\n",
      "jsonschema==4.23.0\n",
      "jsonschema-specifications==2024.10.1\n",
      "jupyter-events==0.11.0\n",
      "jupyter-lsp==2.2.5\n",
      "jupyter_client==8.6.3\n",
      "jupyter_core==5.7.2\n",
      "jupyter_server==2.15.0\n",
      "jupyter_server_terminals==0.5.3\n",
      "jupyterlab==4.2.0\n",
      "jupyterlab_pygments==0.3.0\n",
      "jupyterlab_server==2.27.3\n",
      "jupyterlab_widgets==3.0.13\n",
      "keras==3.8.0\n",
      "kiwisolver==1.4.8\n",
      "langcodes==3.5.0\n",
      "langdetect==1.0.9\n",
      "language_data==1.3.0\n",
      "libclang==18.1.1\n",
      "lightning==2.5.0.post0\n",
      "lightning-cloud==0.5.70\n",
      "lightning-utilities==0.11.9\n",
      "lightning_sdk==0.1.44\n",
      "litdata==0.2.32\n",
      "litserve==0.2.5\n",
      "lxml==5.3.1\n",
      "marisa-trie==1.2.1\n",
      "Markdown==3.7\n",
      "markdown-it-py==3.0.0\n",
      "MarkupSafe==3.0.2\n",
      "matplotlib==3.8.2\n",
      "matplotlib-inline==0.1.7\n",
      "mdurl==0.1.2\n",
      "mistune==3.1.0\n",
      "ml-dtypes==0.4.1\n",
      "more-itertools==10.6.0\n",
      "mpld3==0.5.10\n",
      "mpmath==1.3.0\n",
      "multidict==6.1.0\n",
      "murmurhash==1.0.12\n",
      "namex==0.0.8\n",
      "nbclient==0.10.2\n",
      "nbconvert==7.16.5\n",
      "nbformat==5.10.4\n",
      "nest-asyncio==1.6.0\n",
      "networkx==3.4.2\n",
      "nltk==3.9.1\n",
      "notebook_shim==0.2.4\n",
      "numpy==1.26.4\n",
      "nvidia-cublas-cu12==12.1.3.1\n",
      "nvidia-cuda-cupti-cu12==12.1.105\n",
      "nvidia-cuda-nvrtc-cu12==12.1.105\n",
      "nvidia-cuda-runtime-cu12==12.1.105\n",
      "nvidia-cudnn-cu12==8.9.2.26\n",
      "nvidia-cufft-cu12==11.0.2.54\n",
      "nvidia-curand-cu12==10.3.2.106\n",
      "nvidia-cusolver-cu12==11.4.5.107\n",
      "nvidia-cusparse-cu12==12.1.0.106\n",
      "nvidia-nccl-cu12==2.19.3\n",
      "nvidia-nvjitlink-cu12==12.6.85\n",
      "nvidia-nvtx-cu12==12.1.105\n",
      "oauthlib==3.2.2\n",
      "opt_einsum==3.4.0\n",
      "optree==0.14.0\n",
      "overrides==7.7.0\n",
      "packaging==24.2\n",
      "pandas==2.1.4\n",
      "pandocfilters==1.5.1\n",
      "parso==0.8.4\n",
      "pexpect==4.9.0\n",
      "pillow==11.1.0\n",
      "platformdirs==4.3.6\n",
      "pptree==3.1\n",
      "preshed==3.0.9\n",
      "prometheus_client==0.21.1\n",
      "prompt_toolkit==3.0.48\n",
      "propcache==0.2.1\n",
      "protobuf==4.23.4\n",
      "psutil==6.1.1\n",
      "ptyprocess==0.7.0\n",
      "pure_eval==0.2.3\n",
      "pyasn1==0.6.1\n",
      "pyasn1_modules==0.4.1\n",
      "pycparser==2.22\n",
      "pydantic==2.10.5\n",
      "pydantic_core==2.27.2\n",
      "Pygments==2.19.1\n",
      "PyJWT==2.10.1\n",
      "pyparsing==3.2.1\n",
      "PySocks==1.7.1\n",
      "python-dateutil==2.9.0.post0\n",
      "python-dotenv==1.0.1\n",
      "python-json-logger==3.2.1\n",
      "python-multipart==0.0.20\n",
      "pytorch-lightning==2.5.0.post0\n",
      "pytorch_revgrad==0.2.0\n",
      "pytz==2024.2\n",
      "PyYAML==6.0.2\n",
      "pyzmq==26.2.0\n",
      "referencing==0.35.1\n",
      "regex==2024.11.6\n",
      "requests==2.32.3\n",
      "requests-oauthlib==2.0.0\n",
      "rfc3339-validator==0.1.4\n",
      "rfc3986-validator==0.1.1\n",
      "rich==13.9.4\n",
      "rpds-py==0.22.3\n",
      "rsa==4.9\n",
      "s3transfer==0.10.4\n",
      "safetensors==0.5.2\n",
      "scikit-learn==1.3.2\n",
      "scipy==1.11.4\n",
      "seaborn==0.13.2\n",
      "segtok==1.5.11\n",
      "Send2Trash==1.8.3\n",
      "sentencepiece==0.2.0\n",
      "shellingham==1.5.4\n",
      "simple-term-menu==1.6.6\n",
      "six==1.17.0\n",
      "smart-open==7.1.0\n",
      "sniffio==1.3.1\n",
      "sortedcontainers==2.4.0\n",
      "soupsieve==2.6\n",
      "spacy==3.8.4\n",
      "spacy-legacy==3.0.12\n",
      "spacy-loggers==1.0.5\n",
      "sqlitedict==2.1.0\n",
      "srsly==2.5.1\n",
      "stack-data==0.6.3\n",
      "starlette==0.41.3\n",
      "sympy==1.13.3\n",
      "tabulate==0.9.0\n",
      "tensorboard==2.18.0\n",
      "tensorboard-data-server==0.7.2\n",
      "tensorboardX==2.6.2.2\n",
      "tensorflow==2.18.0\n",
      "tensorflow-io-gcs-filesystem==0.37.1\n",
      "termcolor==2.5.0\n",
      "terminado==0.18.1\n",
      "thinc==8.3.4\n",
      "threadpoolctl==3.5.0\n",
      "tinycss2==1.4.0\n",
      "tokenizers==0.21.0\n",
      "tomli==2.2.1\n",
      "torch==2.2.1+cu121\n",
      "torchmetrics==1.3.1\n",
      "torchvision==0.17.1+cu121\n",
      "tornado==6.4.2\n",
      "tqdm==4.67.1\n",
      "traitlets==5.14.3\n",
      "transformer-smaller-training-vocab==0.4.0\n",
      "transformers==4.49.0\n",
      "triton==2.2.0\n",
      "typer==0.15.1\n",
      "types-python-dateutil==2.9.0.20241206\n",
      "typing_extensions==4.12.2\n",
      "tzdata==2024.2\n",
      "uri-template==1.3.0\n",
      "urllib3==2.3.0\n",
      "uvicorn==0.34.0\n",
      "uvloop==0.21.0\n",
      "wasabi==1.1.3\n",
      "watchfiles==1.0.3\n",
      "wcwidth==0.2.13\n",
      "weasel==0.4.1\n",
      "webcolors==24.11.1\n",
      "webencodings==0.5.1\n",
      "websocket-client==1.8.0\n",
      "websockets==14.1\n",
      "Werkzeug==3.1.3\n",
      "widgetsnbextension==4.0.13\n",
      "Wikipedia-API==0.8.1\n",
      "wrapt==1.17.2\n",
      "yarl==1.18.3\n"
     ]
    }
   ],
   "source": [
    "!pip freeze"
   ]
  },
  {
   "cell_type": "markdown",
   "metadata": {},
   "source": [
    "## Setting Some Parameters"
   ]
  },
  {
   "cell_type": "code",
   "execution_count": 9,
   "metadata": {},
   "outputs": [],
   "source": [
    "# root directory where the dataset will exist\n",
    "dataroot = \"./data/fashion_mnist\"\n",
    "\n",
    "# Number of workers for dataloader\n",
    "workers = 2\n",
    "\n",
    "# Batch size during training\n",
    "batch_size = 128\n",
    "\n",
    "# Spatial size of training images. \n",
    "# All images will be resized to this size using transforms.\n",
    "image_size = 64\n",
    "\n",
    "# Number of channels in the training images. (For color images this is 3)\n",
    "nc = 3\n",
    "\n",
    "# Size of z latent vector (i.e. size of generator input)\n",
    "nz = 100\n",
    "\n",
    "# Size of feature maps in generator\n",
    "ngf = 64\n",
    "\n",
    "# Size of feature maps in discriminator\n",
    "ndf = 64\n",
    "\n",
    "# Number of training epochs\n",
    "num_epochs = 5\n",
    "\n",
    "# Learning rate for optimizers\n",
    "lr = 0.0002\n",
    "\n",
    "# Beta1 hyperparameter for Adam optimizers\n",
    "beta1 = 0.5\n",
    "\n",
    "# Number of GPUs available. (Use 0 for CPU mode)\n",
    "ngpu = 1\n"
   ]
  },
  {
   "cell_type": "markdown",
   "metadata": {},
   "source": [
    "## Setting the device"
   ]
  },
  {
   "cell_type": "code",
   "execution_count": 13,
   "metadata": {},
   "outputs": [],
   "source": [
    "# decide the device to run (gpu or cpu)\n",
    "device = torch.device(\"cuda:0\" if (torch.cuda.is_available() and ngpu > 0) else \"cpu\")"
   ]
  },
  {
   "cell_type": "markdown",
   "metadata": {},
   "source": [
    "## Dataset\n",
    "### Loading the dataset"
   ]
  },
  {
   "cell_type": "code",
   "execution_count": 10,
   "metadata": {},
   "outputs": [],
   "source": [
    "# transforming the images - for train & test (before downloading):\n",
    "    # 1. resize\n",
    "    # 2. crop the image at the center\n",
    "    # 3. transform to a tensor\n",
    "    # 4. normalize tensor in the range [-1, 1]\n",
    "\n",
    "transform = transforms.Compose([\n",
    "                        transforms.Resize(image_size),\n",
    "                        transforms.CenterCrop(image_size),\n",
    "                        transforms.ToTensor(),\n",
    "                        transforms.Normalize((0.5, 0.5, 0.5), (0.5, 0.5, 0.5))\n",
    "                    ])"
   ]
  },
  {
   "cell_type": "code",
   "execution_count": 11,
   "metadata": {},
   "outputs": [
    {
     "name": "stdout",
     "output_type": "stream",
     "text": [
      "Downloading http://fashion-mnist.s3-website.eu-central-1.amazonaws.com/train-images-idx3-ubyte.gz\n",
      "Downloading http://fashion-mnist.s3-website.eu-central-1.amazonaws.com/train-images-idx3-ubyte.gz to ./data/fashion_mnist/FashionMNIST/raw/train-images-idx3-ubyte.gz\n"
     ]
    },
    {
     "name": "stderr",
     "output_type": "stream",
     "text": [
      "100%|██████████| 26421880/26421880 [00:01<00:00, 18234839.29it/s]\n"
     ]
    },
    {
     "name": "stdout",
     "output_type": "stream",
     "text": [
      "Extracting ./data/fashion_mnist/FashionMNIST/raw/train-images-idx3-ubyte.gz to ./data/fashion_mnist/FashionMNIST/raw\n",
      "\n",
      "Downloading http://fashion-mnist.s3-website.eu-central-1.amazonaws.com/train-labels-idx1-ubyte.gz\n",
      "Downloading http://fashion-mnist.s3-website.eu-central-1.amazonaws.com/train-labels-idx1-ubyte.gz to ./data/fashion_mnist/FashionMNIST/raw/train-labels-idx1-ubyte.gz\n"
     ]
    },
    {
     "name": "stderr",
     "output_type": "stream",
     "text": [
      "100%|██████████| 29515/29515 [00:00<00:00, 339182.65it/s]\n"
     ]
    },
    {
     "name": "stdout",
     "output_type": "stream",
     "text": [
      "Extracting ./data/fashion_mnist/FashionMNIST/raw/train-labels-idx1-ubyte.gz to ./data/fashion_mnist/FashionMNIST/raw\n",
      "\n",
      "Downloading http://fashion-mnist.s3-website.eu-central-1.amazonaws.com/t10k-images-idx3-ubyte.gz\n",
      "Downloading http://fashion-mnist.s3-website.eu-central-1.amazonaws.com/t10k-images-idx3-ubyte.gz to ./data/fashion_mnist/FashionMNIST/raw/t10k-images-idx3-ubyte.gz\n"
     ]
    },
    {
     "name": "stderr",
     "output_type": "stream",
     "text": [
      "100%|██████████| 4422102/4422102 [00:00<00:00, 6088865.45it/s]\n"
     ]
    },
    {
     "name": "stdout",
     "output_type": "stream",
     "text": [
      "Extracting ./data/fashion_mnist/FashionMNIST/raw/t10k-images-idx3-ubyte.gz to ./data/fashion_mnist/FashionMNIST/raw\n",
      "\n",
      "Downloading http://fashion-mnist.s3-website.eu-central-1.amazonaws.com/t10k-labels-idx1-ubyte.gz\n",
      "Downloading http://fashion-mnist.s3-website.eu-central-1.amazonaws.com/t10k-labels-idx1-ubyte.gz to ./data/fashion_mnist/FashionMNIST/raw/t10k-labels-idx1-ubyte.gz\n"
     ]
    },
    {
     "name": "stderr",
     "output_type": "stream",
     "text": [
      "100%|██████████| 5148/5148 [00:00<00:00, 10228459.02it/s]"
     ]
    },
    {
     "name": "stdout",
     "output_type": "stream",
     "text": [
      "Extracting ./data/fashion_mnist/FashionMNIST/raw/t10k-labels-idx1-ubyte.gz to ./data/fashion_mnist/FashionMNIST/raw\n",
      "\n"
     ]
    },
    {
     "name": "stderr",
     "output_type": "stream",
     "text": [
      "\n"
     ]
    }
   ],
   "source": [
    "# creating a directory to store the dataset\n",
    "os.makedirs(dataroot, exist_ok=True)\n",
    "\n",
    "# Downloading the FashionMNIST dataset\n",
    "\n",
    "train_dataset = torchvision.datasets.FashionMNIST(root=dataroot, \n",
    "                                        download=True,\n",
    "                                        train=True,\n",
    "                                        transform=transform\n",
    "                                    )\n",
    "\n",
    "test_dataset = torchvision.datasets.FashionMNIST(root=dataroot, \n",
    "                                        download=True,\n",
    "                                        train=False,\n",
    "                                        transform=transform\n",
    "                                    )"
   ]
  },
  {
   "cell_type": "markdown",
   "metadata": {},
   "source": [
    "### Initializing the DataLoader"
   ]
  },
  {
   "cell_type": "code",
   "execution_count": 12,
   "metadata": {},
   "outputs": [],
   "source": [
    "# DataLoader\n",
    "\n",
    "train_dataloader = torch.utils.data.DataLoader(dataset=train_dataset,\n",
    "                                                batch_size=batch_size,\n",
    "                                                shuffle=True,\n",
    "                                                num_workers=workers\n",
    "                                            )\n",
    "test_dataloader = torch.utils.data.DataLoader(dataset=test_dataset,\n",
    "                                                batch_size=batch_size,\n",
    "                                                shuffle=False,\n",
    "                                                num_workers=workers\n",
    "                                            )"
   ]
  }
 ],
 "metadata": {
  "language_info": {
   "name": "python"
  }
 },
 "nbformat": 4,
 "nbformat_minor": 2
}
